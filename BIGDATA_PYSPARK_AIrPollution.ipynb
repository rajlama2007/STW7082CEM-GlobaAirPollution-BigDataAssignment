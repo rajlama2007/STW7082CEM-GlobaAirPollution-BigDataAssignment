{
 "cells": [
  {
   "cell_type": "code",
   "execution_count": 1,
   "id": "de88ac53",
   "metadata": {},
   "outputs": [
    {
     "name": "stdout",
     "output_type": "stream",
     "text": [
      "Requirement already satisfied: pyspark in d:\\anacondanavigator\\lib\\site-packages (3.4.1)\n",
      "Requirement already satisfied: py4j==0.10.9.7 in d:\\anacondanavigator\\lib\\site-packages (from pyspark) (0.10.9.7)\n"
     ]
    }
   ],
   "source": [
    "!pip install pyspark"
   ]
  },
  {
   "cell_type": "code",
   "execution_count": 3,
   "id": "1ec9bd73",
   "metadata": {},
   "outputs": [],
   "source": [
    "from pyspark.sql import SparkSession\n",
    "from pyspark.sql.functions import *\n",
    "from pyspark.ml.feature import VectorAssembler\n",
    "from pyspark.ml.clustering import KMeans\n",
    "from pyspark.ml.feature import StandardScaler\n",
    "import pandas as pd\n",
    "import matplotlib.pyplot as plt\n",
    "import seaborn as sns\n",
    "import itertools\n",
    "from scipy import stats\n",
    "import numpy as np\n",
    "from pyspark.ml.feature import StringIndexer, VectorAssembler\n",
    "from pyspark.ml.feature import StringIndexer, OneHotEncoder\n",
    "from pyspark.ml import Pipeline\n",
    "from pyspark.ml.regression import GBTRegressor\n",
    "from pyspark.ml.evaluation import RegressionEvaluator\n",
    "from IPython.display import IFrame\n"
   ]
  },
  {
   "cell_type": "code",
   "execution_count": 3,
   "id": "5208f9af",
   "metadata": {},
   "outputs": [],
   "source": [
    "plt.style.use('ggplot')\n",
    "sns.set_style(\"whitegrid\")\n",
    "\n",
    "# Initialize a Spark session\n",
    "spark = SparkSession.builder.appName(\"GlobalAirQualityAnalysis\").getOrCreate()"
   ]
  },
  {
   "cell_type": "code",
   "execution_count": 4,
   "id": "0e329f71",
   "metadata": {},
   "outputs": [],
   "source": [
    "# Load the dataset\n",
    "dataset_path = \"C:/Users/Asus/Downloads/globalairpollutiondataset.csv\"\n",
    "df = spark.read.csv(dataset_path, header=True, inferSchema=True)"
   ]
  },
  {
   "cell_type": "code",
   "execution_count": 5,
   "id": "ed78e208",
   "metadata": {},
   "outputs": [],
   "source": [
    "org_df = df"
   ]
  },
  {
   "cell_type": "code",
   "execution_count": 6,
   "id": "603ad580",
   "metadata": {},
   "outputs": [],
   "source": [
    "# Cleaning the data by dropping rows with missing values\n",
    "df_cleaned = df.dropna()\n",
    "\n",
    "\n",
    "\n"
   ]
  },
  {
   "cell_type": "code",
   "execution_count": 7,
   "id": "7759b26b",
   "metadata": {},
   "outputs": [
    {
     "name": "stdout",
     "output_type": "stream",
     "text": [
      "+--------------------+----------------+---------+--------------------+------------+---------------+---------------+--------------------+-------------+----------------+--------------+--------------------+\n",
      "|             Country|            City|AQI_Value|        AQI_Category|CO_AQI_Value|CO_AQI_Category|Ozone_AQI_Value|  Ozone_AQI_Category|NO2_AQI_Value|NO2_AQI_Category|PM25_AQI_Value|   PM25_AQI_Category|\n",
      "+--------------------+----------------+---------+--------------------+------------+---------------+---------------+--------------------+-------------+----------------+--------------+--------------------+\n",
      "|  Russian Federation|      Praskoveya|       51|            Moderate|           1|           Good|             36|                Good|            0|            Good|            51|            Moderate|\n",
      "|              Brazil|Presidente Dutra|       41|                Good|           1|           Good|              5|                Good|            1|            Good|            41|                Good|\n",
      "|               Italy| Priolo Gargallo|       66|            Moderate|           1|           Good|             39|                Good|            2|            Good|            66|            Moderate|\n",
      "|              Poland|       Przasnysz|       34|                Good|           1|           Good|             34|                Good|            0|            Good|            20|                Good|\n",
      "|              France|        Punaauia|       22|                Good|           0|           Good|             22|                Good|            0|            Good|             6|                Good|\n",
      "|United States of ...|     Punta Gorda|       54|            Moderate|           1|           Good|             14|                Good|           11|            Good|            54|            Moderate|\n",
      "|             Germany|      Puttlingen|       62|            Moderate|           1|           Good|             35|                Good|            3|            Good|            62|            Moderate|\n",
      "|             Belgium|           Puurs|       64|            Moderate|           1|           Good|             29|                Good|            7|            Good|            64|            Moderate|\n",
      "|  Russian Federation|      Pyatigorsk|       54|            Moderate|           1|           Good|             41|                Good|            1|            Good|            54|            Moderate|\n",
      "|               Egypt|          Qalyub|      142|Unhealthy for Sen...|           3|           Good|             89|            Moderate|            9|            Good|           142|Unhealthy for Sen...|\n",
      "|               China|         Qinzhou|       68|            Moderate|           2|           Good|             68|            Moderate|            1|            Good|            58|            Moderate|\n",
      "|         Netherlands|          Raalte|       41|                Good|           1|           Good|             24|                Good|            6|            Good|            41|                Good|\n",
      "|               India|          Radaur|      158|           Unhealthy|           3|           Good|            139|Unhealthy for Sen...|            1|            Good|           158|           Unhealthy|\n",
      "|            Pakistan|          Radhan|      158|           Unhealthy|           1|           Good|             50|                Good|            1|            Good|           158|           Unhealthy|\n",
      "|Republic of North...|         Radovis|       83|            Moderate|           1|           Good|             46|                Good|            0|            Good|            83|            Moderate|\n",
      "|              France|         Raismes|       59|            Moderate|           1|           Good|             30|                Good|            4|            Good|            59|            Moderate|\n",
      "|               India|          Rajgir|      154|           Unhealthy|           3|           Good|            100|Unhealthy for Sen...|            2|            Good|           154|           Unhealthy|\n",
      "|               Italy|         Ramacca|       55|            Moderate|           1|           Good|             47|                Good|            0|            Good|            55|            Moderate|\n",
      "|United States of ...|         Phoenix|       72|            Moderate|           1|           Good|              4|                Good|           23|            Good|            72|            Moderate|\n",
      "|               India|       Phulabani|      161|           Unhealthy|           2|           Good|             71|            Moderate|            0|            Good|           161|           Unhealthy|\n",
      "+--------------------+----------------+---------+--------------------+------------+---------------+---------------+--------------------+-------------+----------------+--------------+--------------------+\n",
      "only showing top 20 rows\n",
      "\n"
     ]
    }
   ],
   "source": [
    "df.show()"
   ]
  },
  {
   "cell_type": "code",
   "execution_count": 8,
   "id": "dfbb9000",
   "metadata": {},
   "outputs": [
    {
     "name": "stdout",
     "output_type": "stream",
     "text": [
      "root\n",
      " |-- Country: string (nullable = true)\n",
      " |-- City: string (nullable = true)\n",
      " |-- AQI_Value: integer (nullable = true)\n",
      " |-- AQI_Category: string (nullable = true)\n",
      " |-- CO_AQI_Value: integer (nullable = true)\n",
      " |-- CO_AQI_Category: string (nullable = true)\n",
      " |-- Ozone_AQI_Value: integer (nullable = true)\n",
      " |-- Ozone_AQI_Category: string (nullable = true)\n",
      " |-- NO2_AQI_Value: integer (nullable = true)\n",
      " |-- NO2_AQI_Category: string (nullable = true)\n",
      " |-- PM25_AQI_Value: integer (nullable = true)\n",
      " |-- PM25_AQI_Category: string (nullable = true)\n",
      "\n"
     ]
    }
   ],
   "source": [
    "df.printSchema()"
   ]
  },
  {
   "cell_type": "code",
   "execution_count": 9,
   "id": "9f3bc6da",
   "metadata": {},
   "outputs": [
    {
     "name": "stdout",
     "output_type": "stream",
     "text": [
      "+-------+----+---------+------------+------------+---------------+---------------+------------------+-------------+----------------+--------------+-----------------+\n",
      "|Country|City|AQI_Value|AQI_Category|CO_AQI_Value|CO_AQI_Category|Ozone_AQI_Value|Ozone_AQI_Category|NO2_AQI_Value|NO2_AQI_Category|PM25_AQI_Value|PM25_AQI_Category|\n",
      "+-------+----+---------+------------+------------+---------------+---------------+------------------+-------------+----------------+--------------+-----------------+\n",
      "+-------+----+---------+------------+------------+---------------+---------------+------------------+-------------+----------------+--------------+-----------------+\n",
      "\n"
     ]
    }
   ],
   "source": [
    "# Cleaning the data by dropping rows with missing values\n",
    "df_dup = df.groupBy(\n",
    "    \"Country\", \"City\", \"AQI_Value\", \"AQI_Category\",\n",
    "    \"CO_AQI_Value\", \"CO_AQI_Category\", \"Ozone_AQI_Value\", \"Ozone_AQI_Category\",\n",
    "    \"NO2_AQI_Value\", \"NO2_AQI_Category\",\"PM25_AQI_Value\",\"PM25_AQI_Category\"\n",
    ").count().filter(\"count > 1\")\n",
    "\n",
    "df_dup.drop('count').show()\n",
    "\n"
   ]
  },
  {
   "cell_type": "code",
   "execution_count": 10,
   "id": "42066fc6",
   "metadata": {},
   "outputs": [
    {
     "name": "stdout",
     "output_type": "stream",
     "text": [
      "+--------------------+----------------+---------+--------------------+------------+---------------+---------------+--------------------+-------------+----------------+--------------+--------------------+\n",
      "|             Country|            City|AQI_Value|        AQI_Category|CO_AQI_Value|CO_AQI_Category|Ozone_AQI_Value|  Ozone_AQI_Category|NO2_AQI_Value|NO2_AQI_Category|PM25_AQI_Value|   PM25_AQI_Category|\n",
      "+--------------------+----------------+---------+--------------------+------------+---------------+---------------+--------------------+-------------+----------------+--------------+--------------------+\n",
      "|  Russian Federation|      Praskoveya|       51|            Moderate|           1|           Good|             36|                Good|            0|            Good|            51|            Moderate|\n",
      "|              Brazil|Presidente Dutra|       41|                Good|           1|           Good|              5|                Good|            1|            Good|            41|                Good|\n",
      "|               Italy| Priolo Gargallo|       66|            Moderate|           1|           Good|             39|                Good|            2|            Good|            66|            Moderate|\n",
      "|              Poland|       Przasnysz|       34|                Good|           1|           Good|             34|                Good|            0|            Good|            20|                Good|\n",
      "|              France|        Punaauia|       22|                Good|           0|           Good|             22|                Good|            0|            Good|             6|                Good|\n",
      "|United States of ...|     Punta Gorda|       54|            Moderate|           1|           Good|             14|                Good|           11|            Good|            54|            Moderate|\n",
      "|             Germany|      Puttlingen|       62|            Moderate|           1|           Good|             35|                Good|            3|            Good|            62|            Moderate|\n",
      "|             Belgium|           Puurs|       64|            Moderate|           1|           Good|             29|                Good|            7|            Good|            64|            Moderate|\n",
      "|  Russian Federation|      Pyatigorsk|       54|            Moderate|           1|           Good|             41|                Good|            1|            Good|            54|            Moderate|\n",
      "|               Egypt|          Qalyub|      142|Unhealthy for Sen...|           3|           Good|             89|            Moderate|            9|            Good|           142|Unhealthy for Sen...|\n",
      "|               China|         Qinzhou|       68|            Moderate|           2|           Good|             68|            Moderate|            1|            Good|            58|            Moderate|\n",
      "|         Netherlands|          Raalte|       41|                Good|           1|           Good|             24|                Good|            6|            Good|            41|                Good|\n",
      "|               India|          Radaur|      158|           Unhealthy|           3|           Good|            139|Unhealthy for Sen...|            1|            Good|           158|           Unhealthy|\n",
      "|            Pakistan|          Radhan|      158|           Unhealthy|           1|           Good|             50|                Good|            1|            Good|           158|           Unhealthy|\n",
      "|Republic of North...|         Radovis|       83|            Moderate|           1|           Good|             46|                Good|            0|            Good|            83|            Moderate|\n",
      "|              France|         Raismes|       59|            Moderate|           1|           Good|             30|                Good|            4|            Good|            59|            Moderate|\n",
      "|               India|          Rajgir|      154|           Unhealthy|           3|           Good|            100|Unhealthy for Sen...|            2|            Good|           154|           Unhealthy|\n",
      "|               Italy|         Ramacca|       55|            Moderate|           1|           Good|             47|                Good|            0|            Good|            55|            Moderate|\n",
      "|United States of ...|         Phoenix|       72|            Moderate|           1|           Good|              4|                Good|           23|            Good|            72|            Moderate|\n",
      "|               India|       Phulabani|      161|           Unhealthy|           2|           Good|             71|            Moderate|            0|            Good|           161|           Unhealthy|\n",
      "+--------------------+----------------+---------+--------------------+------------+---------------+---------------+--------------------+-------------+----------------+--------------+--------------------+\n",
      "only showing top 20 rows\n",
      "\n"
     ]
    }
   ],
   "source": [
    "df.show()\n"
   ]
  },
  {
   "cell_type": "code",
   "execution_count": 11,
   "id": "39791490",
   "metadata": {},
   "outputs": [
    {
     "name": "stdout",
     "output_type": "stream",
     "text": [
      "Missing: 0\n",
      "Missing: 0\n",
      "Missing: 0\n",
      "Missing: 0\n",
      "Missing: 0\n",
      "Missing: 0\n"
     ]
    }
   ],
   "source": [
    "print('Missing: {}'.format(df.filter(df['Country'] == 'NONE').count()))\n",
    "print('Missing: {}'.format(df.filter(df['City'] == 'NONE').count()))\n",
    "print('Missing: {}'.format(df.filter(df['PM25_AQI_Value'] == 'NONE').count()))\n",
    "print('Missing: {}'.format(df.filter(df['PM25_AQI_Category'] == 'NONE').count()))\n",
    "print('Missing: {}'.format(df.filter(df['Ozone_AQI_Category'] == 'NONE').count()))\n",
    "print('Missing: {}'.format(df.filter(df['AQI_Value'] == 'NONE').count()))\n",
    "\n",
    "\n",
    "\n",
    "\n"
   ]
  },
  {
   "cell_type": "code",
   "execution_count": 12,
   "id": "73296502",
   "metadata": {},
   "outputs": [
    {
     "name": "stdout",
     "output_type": "stream",
     "text": [
      "+-------+-----------------+------------------+------------------+-----------------+\n",
      "|summary|        AQI_Value|   Ozone_AQI_Value|     NO2_AQI_Value|   PM25_AQI_Value|\n",
      "+-------+-----------------+------------------+------------------+-----------------+\n",
      "|  count|            23463|             23463|             23463|            23463|\n",
      "|   mean|72.01086817542513| 35.19370924434216|3.0633337595362913|68.51975450709628|\n",
      "| stddev|56.05522025223742|28.098723409527004| 5.254108426652412|54.79644316021085|\n",
      "|    min|                6|                 0|                 0|                0|\n",
      "|    max|              500|               235|                91|              500|\n",
      "+-------+-----------------+------------------+------------------+-----------------+\n",
      "\n"
     ]
    }
   ],
   "source": [
    "df.describe(['AQI_Value', 'Ozone_AQI_Value', 'NO2_AQI_Value','PM25_AQI_Value']).show()\n",
    "\n",
    "\n"
   ]
  },
  {
   "cell_type": "code",
   "execution_count": 13,
   "id": "5edc077c",
   "metadata": {},
   "outputs": [],
   "source": [
    "#Creating Table Based on Spark Data Frame to perform SQL Queries\n",
    "df.createOrReplaceTempView(\"countrydata\")\n",
    "\n"
   ]
  },
  {
   "cell_type": "code",
   "execution_count": 14,
   "id": "6bddb38d",
   "metadata": {},
   "outputs": [
    {
     "name": "stdout",
     "output_type": "stream",
     "text": [
      "+--------+------------+---------+------------+------------+---------------+---------------+------------------+-------------+----------------+--------------+-----------------+\n",
      "| Country|        City|AQI_Value|AQI_Category|CO_AQI_Value|CO_AQI_Category|Ozone_AQI_Value|Ozone_AQI_Category|NO2_AQI_Value|NO2_AQI_Category|PM25_AQI_Value|PM25_AQI_Category|\n",
      "+--------+------------+---------+------------+------------+---------------+---------------+------------------+-------------+----------------+--------------+-----------------+\n",
      "|Pakistan|Bahawalnagar|      500|   Hazardous|           1|           Good|             38|              Good|            1|            Good|           466|        Hazardous|\n",
      "|   India|       Rania|      500|   Hazardous|           1|           Good|             40|              Good|            0|            Good|           464|        Hazardous|\n",
      "|   India|      Gohana|      500|   Hazardous|           1|           Good|             47|              Good|            1|            Good|           500|        Hazardous|\n",
      "|   India|     Gunnaur|      500|   Hazardous|           1|           Good|             73|          Moderate|            1|            Good|           500|        Hazardous|\n",
      "|Pakistan|   Harunabad|      500|   Hazardous|           1|           Good|             43|              Good|            0|            Good|           443|        Hazardous|\n",
      "|   India|      Khetri|      500|   Hazardous|           1|           Good|             40|              Good|            0|            Good|           376|        Hazardous|\n",
      "|   India| Jahangirpur|      500|   Hazardous|           1|           Good|             49|              Good|            1|            Good|           493|        Hazardous|\n",
      "|   India|     Kakrala|      500|   Hazardous|           2|           Good|             95|          Moderate|            2|            Good|           478|        Hazardous|\n",
      "|   India|     Kandhla|      500|   Hazardous|           3|           Good|             53|          Moderate|            8|            Good|           500|        Hazardous|\n",
      "|   India|Mahendragarh|      500|   Hazardous|           1|           Good|             42|              Good|            0|            Good|           435|        Hazardous|\n",
      "|Pakistan|     Lodhran|      500|   Hazardous|           1|           Good|             45|              Good|            0|            Good|           364|        Hazardous|\n",
      "|Pakistan|      Mailsi|      500|   Hazardous|           1|           Good|             45|              Good|            0|            Good|           386|        Hazardous|\n",
      "|   India|    Gajraula|      500|   Hazardous|           1|           Good|             55|          Moderate|            1|            Good|           500|        Hazardous|\n",
      "|   India|      Nagaur|      500|   Hazardous|           0|           Good|             35|              Good|            0|            Good|           426|        Hazardous|\n",
      "|   India|    Dataganj|      500|   Hazardous|           3|           Good|             61|          Moderate|            9|            Good|           437|        Hazardous|\n",
      "|   India|    Pilkhuwa|      500|   Hazardous|           2|           Good|             61|          Moderate|            2|            Good|           500|        Hazardous|\n",
      "|   India|      Siwani|      500|   Hazardous|           1|           Good|             38|              Good|            0|            Good|           500|        Hazardous|\n",
      "|   India|   Shamsabad|      500|   Hazardous|           1|           Good|             75|          Moderate|            2|            Good|           433|        Hazardous|\n",
      "|   India|     Phalodi|      500|   Hazardous|           0|           Good|             34|              Good|            0|            Good|           467|        Hazardous|\n",
      "|   India|      Kanina|      500|   Hazardous|           1|           Good|             41|              Good|            0|            Good|           372|        Hazardous|\n",
      "+--------+------------+---------+------------+------------+---------------+---------------+------------------+-------------+----------------+--------------+-----------------+\n",
      "only showing top 20 rows\n",
      "\n"
     ]
    }
   ],
   "source": [
    "#Highest Polluted Country\n",
    "spark.sql('''\n",
    "    SELECT *\n",
    "    FROM countrydata\n",
    "    WHERE AQI_Value == (SELECT MAX(AQI_Value) FROM countrydata)''').show()"
   ]
  },
  {
   "cell_type": "code",
   "execution_count": 15,
   "id": "d9ba4e75",
   "metadata": {},
   "outputs": [
    {
     "name": "stdout",
     "output_type": "stream",
     "text": [
      "+--------+---------+\n",
      "| Country|AQI_Value|\n",
      "+--------+---------+\n",
      "|Pakistan|      500|\n",
      "|   India|      500|\n",
      "|   India|      500|\n",
      "|   India|      500|\n",
      "|Pakistan|      500|\n",
      "|   India|      500|\n",
      "|   India|      500|\n",
      "|   India|      500|\n",
      "|   India|      500|\n",
      "|   India|      500|\n",
      "|Pakistan|      500|\n",
      "|Pakistan|      500|\n",
      "|   India|      500|\n",
      "|   India|      500|\n",
      "|   India|      500|\n",
      "|   India|      500|\n",
      "|   India|      500|\n",
      "|   India|      500|\n",
      "|   India|      500|\n",
      "|   India|      500|\n",
      "+--------+---------+\n",
      "only showing top 20 rows\n",
      "\n"
     ]
    }
   ],
   "source": [
    "#Highest Polluted Country\n",
    "spark.sql('''\n",
    "    SELECT Country, AQI_Value\n",
    "    FROM countrydata\n",
    "    WHERE AQI_Value == (SELECT MAX(AQI_Value) FROM countrydata)''').show()"
   ]
  },
  {
   "cell_type": "code",
   "execution_count": 16,
   "id": "a2e2eebd",
   "metadata": {},
   "outputs": [
    {
     "name": "stdout",
     "output_type": "stream",
     "text": [
      "+------------+---------+\n",
      "|        City|AQI_Value|\n",
      "+------------+---------+\n",
      "|Bahawalnagar|      500|\n",
      "|       Rania|      500|\n",
      "|      Gohana|      500|\n",
      "|     Gunnaur|      500|\n",
      "|   Harunabad|      500|\n",
      "|      Khetri|      500|\n",
      "| Jahangirpur|      500|\n",
      "|     Kakrala|      500|\n",
      "|     Kandhla|      500|\n",
      "|Mahendragarh|      500|\n",
      "|     Lodhran|      500|\n",
      "|      Mailsi|      500|\n",
      "|    Gajraula|      500|\n",
      "|      Nagaur|      500|\n",
      "|    Dataganj|      500|\n",
      "|    Pilkhuwa|      500|\n",
      "|      Siwani|      500|\n",
      "|   Shamsabad|      500|\n",
      "|     Phalodi|      500|\n",
      "|      Kanina|      500|\n",
      "+------------+---------+\n",
      "only showing top 20 rows\n",
      "\n"
     ]
    }
   ],
   "source": [
    "#Highest Polluted City\n",
    "df.createOrReplaceTempView(\"citydata\")\n",
    "spark.sql('''\n",
    "    SELECT City, AQI_Value\n",
    "    FROM citydata\n",
    "    WHERE AQI_Value == (SELECT MAX(AQI_Value) FROM citydata)''').show()"
   ]
  },
  {
   "cell_type": "code",
   "execution_count": 17,
   "id": "630c0c34",
   "metadata": {},
   "outputs": [
    {
     "name": "stdout",
     "output_type": "stream",
     "text": [
      "+--------------------+------------+---------+----+\n",
      "|             Country|        City|AQI_Value|Rank|\n",
      "+--------------------+------------+---------+----+\n",
      "|               India|  Faridnagar|      500|   1|\n",
      "|               India|   Faridabad|      500|   1|\n",
      "|               India|    Bisalpur|      500|   1|\n",
      "|               India|Chhachhrauli|      500|   1|\n",
      "|               India|    Barkhera|      500|   1|\n",
      "|               India|       Bagar|      500|   1|\n",
      "|United States of ...|     Durango|      500|   1|\n",
      "|            Pakistan|Bahawalnagar|      500|   1|\n",
      "|               India|     Balotra|      500|   1|\n",
      "|               India|     Didwana|      500|   1|\n",
      "|               India|      Bahjoi|      500|   1|\n",
      "|               India|       Bawal|      500|   1|\n",
      "|               India|       Churu|      500|   1|\n",
      "|               India|      Bhadra|      500|   1|\n",
      "|               India|     Dabwali|      500|   1|\n",
      "|               India|      Bilari|      500|   1|\n",
      "|               India|    Dataganj|      500|   1|\n",
      "|               India|        Etah|      500|   1|\n",
      "|               India|       Delhi|      500|   1|\n",
      "|        South Africa|    Boksburg|      500|   1|\n",
      "+--------------------+------------+---------+----+\n",
      "\n"
     ]
    }
   ],
   "source": [
    "df = spark.sql('''\n",
    "          SELECT Country,City, AQI_Value, RANK() OVER(PARTITION BY City \n",
    "          ORDER BY AQI_Value DESC) Rank\n",
    "          FROM citydata\n",
    "          ORDER BY AQI_Value DESC\n",
    "          LIMIT 20''')\n",
    "df.show(20)"
   ]
  },
  {
   "cell_type": "code",
   "execution_count": 18,
   "id": "b7a3c259",
   "metadata": {},
   "outputs": [
    {
     "name": "stdout",
     "output_type": "stream",
     "text": [
      "+--------------------+------------------+---------+----+\n",
      "|             Country|              City|AQI_Value|Rank|\n",
      "+--------------------+------------------+---------+----+\n",
      "|Bolivia (Plurinat...|          El Torno|        6|   1|\n",
      "|             Ecuador|             Macas|        7|   1|\n",
      "|             Ecuador|           Azogues|        8|   1|\n",
      "|    Papua New Guinea|              Tari|        8|   1|\n",
      "|                Peru|            Huaraz|        9|   1|\n",
      "|            Colombia|             Guapi|       10|   1|\n",
      "|                Peru|             Junin|       10|   1|\n",
      "|            Colombia|       Puerto Asis|       10|   1|\n",
      "|                Peru|      Huancavelica|       10|   1|\n",
      "|           Indonesia|         Manokwari|       10|   1|\n",
      "|             Ecuador|        Nueva Loja|       10|   1|\n",
      "|              Brazil|         Andradina|       11|   1|\n",
      "|           Argentina|Comodoro Rivadavia|       11|   1|\n",
      "|                Peru|          La Oroya|       11|   1|\n",
      "|    Papua New Guinea|             Mendi|       11|   1|\n",
      "|                Peru|    Cerro De Pasco|       11|   1|\n",
      "|    Papua New Guinea|       Mount Hagen|       11|   1|\n",
      "|                Peru|           La Peca|       11|   1|\n",
      "|                Peru|             Nazca|       11|   1|\n",
      "|           Argentina|     Puerto Madryn|       11|   1|\n",
      "+--------------------+------------------+---------+----+\n",
      "\n"
     ]
    }
   ],
   "source": [
    "#Lowesst Air Pollution Country and City\n",
    "df = spark.sql('''\n",
    "SELECT Country, City, AQI_Value, RANK() OVER(PARTITION BY City \n",
    "ORDER BY AQI_Value ASC) AS Rank\n",
    "FROM citydata\n",
    "ORDER BY AQI_Value ASC\n",
    "LIMIT 20\n",
    "''')\n",
    "df.show(20)"
   ]
  },
  {
   "cell_type": "code",
   "execution_count": 19,
   "id": "9f4e0b33",
   "metadata": {},
   "outputs": [
    {
     "name": "stdout",
     "output_type": "stream",
     "text": [
      "+--------------------+------------------+\n",
      "|             Country|       average_aqi|\n",
      "+--------------------+------------------+\n",
      "|   Republic of Korea|             421.0|\n",
      "|             Bahrain|             188.0|\n",
      "|          Mauritania|             179.0|\n",
      "|            Pakistan|178.78827361563518|\n",
      "|United Arab Emirates|163.66666666666666|\n",
      "|               Aruba|             163.0|\n",
      "|              Kuwait|             162.0|\n",
      "|               Qatar|             157.5|\n",
      "|               India|152.96422829581994|\n",
      "|             Senegal|152.42424242424244|\n",
      "+--------------------+------------------+\n",
      "only showing top 10 rows\n",
      "\n"
     ]
    }
   ],
   "source": [
    "#TOP 10 Polluted Country\n",
    "df= spark.sql('''\n",
    "SELECT Country, AVG(AQI_Value) as average_aqi\n",
    "FROM countrydata\n",
    "Group by Country\n",
    "Order by average_aqi DESC\n",
    "''')\n",
    "df.show(10)"
   ]
  },
  {
   "cell_type": "code",
   "execution_count": 20,
   "id": "f26c2d5e",
   "metadata": {},
   "outputs": [
    {
     "data": {
      "image/png": "[encoded data removed]",
      "text/plain": [
       "<Figure size 500x600 with 1 Axes>"
      ]
     },
     "metadata": {},
     "output_type": "display_data"
    }
   ],
   "source": [
    "#TOP 10 Polluted Countries by Average AQI Value\n",
    "df_average_aqi = df.toPandas()\n",
    "df_top10 = df_average_aqi.head(10)\n",
    "plt.figure(figsize=(5, 6))\n",
    "sns.barplot(y='Country', x='average_aqi', data=df_top10, palette='viridis')\n",
    "plt.title('Average AQI Value for Top 10 Polluted Countries')\n",
    "plt.xlabel('Average AQI Value')\n",
    "plt.ylabel('Country')\n",
    "plt.show(10)\n"
   ]
  },
  {
   "cell_type": "code",
   "execution_count": 21,
   "id": "b122c51f",
   "metadata": {},
   "outputs": [
    {
     "name": "stdout",
     "output_type": "stream",
     "text": [
      "+--------------------+------------------+\n",
      "|             Country|       average_aqi|\n",
      "+--------------------+------------------+\n",
      "|   Republic of Korea|             421.0|\n",
      "|             Bahrain|             188.0|\n",
      "|          Mauritania|             179.0|\n",
      "|            Pakistan|178.78827361563518|\n",
      "|United Arab Emirates|163.66666666666666|\n",
      "|               Aruba|             163.0|\n",
      "|              Kuwait|             162.0|\n",
      "|               Qatar|             157.5|\n",
      "|               India|152.96422829581994|\n",
      "|             Senegal|152.42424242424244|\n",
      "|        Saudi Arabia|149.28571428571428|\n",
      "|              Gambia|             147.0|\n",
      "|               Yemen|144.57142857142858|\n",
      "|       Guinea-Bissau|            138.75|\n",
      "|                Oman|             137.5|\n",
      "|               China|126.95345911949686|\n",
      "| Kingdom of Eswatini|119.33333333333333|\n",
      "|          Uzbekistan|119.08620689655173|\n",
      "|               Nepal|116.36363636363636|\n",
      "|          Tajikistan|115.20689655172414|\n",
      "+--------------------+------------------+\n",
      "only showing top 20 rows\n",
      "\n"
     ]
    }
   ],
   "source": [
    "# Calculate average AQI per country\n",
    "df_AQICategory= spark.sql('''\n",
    "    SELECT c.Country, c.AQI_Category,AVG(c.AQI_Value) AS average_aqi\n",
    "    FROM countrydata c\n",
    "    GROUP BY c.Country, c.AQI_Category\n",
    "    ORDER BY average_aqi DESC\n",
    "''')\n",
    "df.show()\n",
    "\n",
    "\n"
   ]
  },
  {
   "cell_type": "code",
   "execution_count": 22,
   "id": "94189344",
   "metadata": {},
   "outputs": [
    {
     "name": "stdout",
     "output_type": "stream",
     "text": [
      "+--------------------+--------------+------------------+\n",
      "|             Country|  AQI_Category|       average_aqi|\n",
      "+--------------------+--------------+------------------+\n",
      "|United States of ...|     Hazardous|             500.0|\n",
      "|  Russian Federation|     Hazardous|             500.0|\n",
      "|               India|     Hazardous|450.62025316455697|\n",
      "|   Republic of Korea|     Hazardous|             421.0|\n",
      "|            Pakistan|     Hazardous|419.46153846153845|\n",
      "|Democratic Republ...|     Hazardous|             415.0|\n",
      "|        South Africa|     Hazardous|             403.0|\n",
      "|               Chile|     Hazardous|             358.0|\n",
      "|              Mexico|     Hazardous| 339.6666666666667|\n",
      "|               China|     Hazardous| 332.3333333333333|\n",
      "|          Uzbekistan|     Hazardous|             300.0|\n",
      "|              Angola|Very Unhealthy|             285.0|\n",
      "|           Australia|Very Unhealthy|             264.0|\n",
      "|Democratic Republ...|Very Unhealthy|             249.5|\n",
      "|              Brazil|Very Unhealthy|239.33333333333334|\n",
      "|               Chile|Very Unhealthy|            235.75|\n",
      "|        South Africa|Very Unhealthy|             233.6|\n",
      "|              Mexico|Very Unhealthy|233.42105263157896|\n",
      "|               India|Very Unhealthy|232.91603053435114|\n",
      "|            Pakistan|Very Unhealthy|227.45833333333334|\n",
      "+--------------------+--------------+------------------+\n",
      "only showing top 20 rows\n",
      "\n"
     ]
    }
   ],
   "source": [
    "df_AQICategory.show()"
   ]
  },
  {
   "cell_type": "code",
   "execution_count": 23,
   "id": "dc32bf92",
   "metadata": {},
   "outputs": [
    {
     "name": "stdout",
     "output_type": "stream",
     "text": [
      "+--------------------+-----+\n",
      "|        AQI_Category|count|\n",
      "+--------------------+-----+\n",
      "|           Unhealthy|   69|\n",
      "|                Good|  140|\n",
      "|Unhealthy for Sen...|   96|\n",
      "|           Hazardous|   11|\n",
      "|            Moderate|  154|\n",
      "|      Very Unhealthy|   21|\n",
      "+--------------------+-----+\n",
      "\n"
     ]
    }
   ],
   "source": [
    "categorycount=df_AQICategory.groupBy('AQI_Category').count().show() "
   ]
  },
  {
   "cell_type": "code",
   "execution_count": 24,
   "id": "37b230d6",
   "metadata": {},
   "outputs": [],
   "source": [
    "AQIcategory_list=['Hazardous','Very_Unhealthy','Unhealthy','Unhealthy_for_SensitiveGroups','Moderate','Good']"
   ]
  },
  {
   "cell_type": "code",
   "execution_count": 25,
   "id": "29b219e2",
   "metadata": {},
   "outputs": [
    {
     "name": "stdout",
     "output_type": "stream",
     "text": [
      "+--------------------+------------+------------------+\n",
      "|             Country|AQI_Category|     AVG_AQI_Value|\n",
      "+--------------------+------------+------------------+\n",
      "|               Palau|        Good|              16.0|\n",
      "|     Solomon Islands|        Good|              18.0|\n",
      "|            Maldives|        Good|              19.0|\n",
      "|    Papua New Guinea|        Good|19.214285714285715|\n",
      "|         New Zealand|        Good|21.352941176470587|\n",
      "|Bolivia (Plurinat...|        Good|21.419354838709676|\n",
      "|              Belize|        Good|              22.0|\n",
      "|           Argentina|        Good|22.262295081967213|\n",
      "|             Iceland|        Good|              23.0|\n",
      "|             Uruguay|        Good|             25.64|\n",
      "|            Paraguay|        Good| 25.68421052631579|\n",
      "|          Luxembourg|        Good|              26.0|\n",
      "|          Seychelles|        Good|              26.0|\n",
      "|              Bhutan|        Good|              26.0|\n",
      "|          Madagascar|        Good|26.214285714285715|\n",
      "|           Australia|        Good|27.333333333333332|\n",
      "|             Somalia|        Good|27.857142857142858|\n",
      "|United Republic o...|        Good|28.076190476190476|\n",
      "|             Senegal|        Good|              29.0|\n",
      "|             Andorra|        Good|29.333333333333332|\n",
      "+--------------------+------------+------------------+\n",
      "only showing top 20 rows\n",
      "\n"
     ]
    }
   ],
   "source": [
    "# Define and execute a Spark SQL query to create df_AQIcategory\n",
    "\n",
    "df_AQIcategory = spark.sql('''\n",
    "    SELECT Country, AQI_Category, AVG(AQI_Value) AS AVG_AQI_Value\n",
    "    FROM countrydata GROUP BY Country, AQI_Category\n",
    "    ORDER BY AVG_AQI_Value\n",
    "''')\n",
    "\n",
    "df_AQIcategory.show()\n",
    "\n",
    "# Convert the Spark DataFrame to a Pandas DataFrame\n",
    "df_AQIcategory_pandas = df_AQIcategory.toPandas()\n",
    "\n",
    "# Now you can use the df_AQIcategory_pandas DataFrame as needed\n"
   ]
  },
  {
   "cell_type": "code",
   "execution_count": 26,
   "id": "22a00dde",
   "metadata": {},
   "outputs": [],
   "source": [
    "df_subset = df_AQIcategory_pandas[df_AQIcategory_pandas['AQI_Category'].isin(AQIcategory_list)]"
   ]
  },
  {
   "cell_type": "code",
   "execution_count": 27,
   "id": "bce76163",
   "metadata": {},
   "outputs": [
    {
     "data": {
      "text/html": [
       "<div>\n",
       "<style scoped>\n",
       "    .dataframe tbody tr th:only-of-type {\n",
       "        vertical-align: middle;\n",
       "    }\n",
       "\n",
       "    .dataframe tbody tr th {\n",
       "        vertical-align: top;\n",
       "    }\n",
       "\n",
       "    .dataframe thead th {\n",
       "        text-align: right;\n",
       "    }\n",
       "</style>\n",
       "<table border=\"1\" class=\"dataframe\">\n",
       "  <thead>\n",
       "    <tr style=\"text-align: right;\">\n",
       "      <th></th>\n",
       "      <th>Country</th>\n",
       "      <th>AQI_Category</th>\n",
       "      <th>AVG_AQI_Value</th>\n",
       "    </tr>\n",
       "  </thead>\n",
       "  <tbody>\n",
       "    <tr>\n",
       "      <th>0</th>\n",
       "      <td>Palau</td>\n",
       "      <td>Good</td>\n",
       "      <td>16.000000</td>\n",
       "    </tr>\n",
       "    <tr>\n",
       "      <th>1</th>\n",
       "      <td>Solomon Islands</td>\n",
       "      <td>Good</td>\n",
       "      <td>18.000000</td>\n",
       "    </tr>\n",
       "    <tr>\n",
       "      <th>2</th>\n",
       "      <td>Maldives</td>\n",
       "      <td>Good</td>\n",
       "      <td>19.000000</td>\n",
       "    </tr>\n",
       "    <tr>\n",
       "      <th>3</th>\n",
       "      <td>Papua New Guinea</td>\n",
       "      <td>Good</td>\n",
       "      <td>19.214286</td>\n",
       "    </tr>\n",
       "    <tr>\n",
       "      <th>4</th>\n",
       "      <td>New Zealand</td>\n",
       "      <td>Good</td>\n",
       "      <td>21.352941</td>\n",
       "    </tr>\n",
       "    <tr>\n",
       "      <th>...</th>\n",
       "      <td>...</td>\n",
       "      <td>...</td>\n",
       "      <td>...</td>\n",
       "    </tr>\n",
       "    <tr>\n",
       "      <th>486</th>\n",
       "      <td>Pakistan</td>\n",
       "      <td>Hazardous</td>\n",
       "      <td>419.461538</td>\n",
       "    </tr>\n",
       "    <tr>\n",
       "      <th>487</th>\n",
       "      <td>Republic of Korea</td>\n",
       "      <td>Hazardous</td>\n",
       "      <td>421.000000</td>\n",
       "    </tr>\n",
       "    <tr>\n",
       "      <th>488</th>\n",
       "      <td>India</td>\n",
       "      <td>Hazardous</td>\n",
       "      <td>450.620253</td>\n",
       "    </tr>\n",
       "    <tr>\n",
       "      <th>489</th>\n",
       "      <td>United States of America</td>\n",
       "      <td>Hazardous</td>\n",
       "      <td>500.000000</td>\n",
       "    </tr>\n",
       "    <tr>\n",
       "      <th>490</th>\n",
       "      <td>Russian Federation</td>\n",
       "      <td>Hazardous</td>\n",
       "      <td>500.000000</td>\n",
       "    </tr>\n",
       "  </tbody>\n",
       "</table>\n",
       "<p>374 rows × 3 columns</p>\n",
       "</div>"
      ],
      "text/plain": [
       "                      Country AQI_Category  AVG_AQI_Value\n",
       "0                       Palau         Good      16.000000\n",
       "1             Solomon Islands         Good      18.000000\n",
       "2                    Maldives         Good      19.000000\n",
       "3            Papua New Guinea         Good      19.214286\n",
       "4                 New Zealand         Good      21.352941\n",
       "..                        ...          ...            ...\n",
       "486                  Pakistan    Hazardous     419.461538\n",
       "487         Republic of Korea    Hazardous     421.000000\n",
       "488                     India    Hazardous     450.620253\n",
       "489  United States of America    Hazardous     500.000000\n",
       "490        Russian Federation    Hazardous     500.000000\n",
       "\n",
       "[374 rows x 3 columns]"
      ]
     },
     "execution_count": 27,
     "metadata": {},
     "output_type": "execute_result"
    }
   ],
   "source": [
    "df_subset"
   ]
  },
  {
   "cell_type": "code",
   "execution_count": 28,
   "id": "a6962833",
   "metadata": {},
   "outputs": [
    {
     "data": {
      "image/png": "[encoded data removed]",
      "text/plain": [
       "<Figure size 1000x300 with 1 Axes>"
      ]
     },
     "metadata": {},
     "output_type": "display_data"
    }
   ],
   "source": [
    "# for AQIcategory in AQIcategory_list:\n",
    "df_subset = df_AQIcategory_pandas[df_AQIcategory_pandas['AQI_Category'].isin(AQIcategory_list)]\n",
    "plt.figure(figsize=(10, 3))\n",
    "sns.boxplot(x='AQI_Category', y='AVG_AQI_Value', data=df_AQIcategory_pandas, palette='mako_r')\n",
    "plt.title('AQI Value by AQI Category')\n",
    "plt.show()\n",
    "\n"
   ]
  },
  {
   "cell_type": "code",
   "execution_count": 29,
   "id": "f2e9662c",
   "metadata": {},
   "outputs": [],
   "source": [
    "df = org_df"
   ]
  },
  {
   "cell_type": "code",
   "execution_count": 30,
   "id": "a18c4899",
   "metadata": {},
   "outputs": [
    {
     "name": "stdout",
     "output_type": "stream",
     "text": [
      "+---------------+\n",
      "|Ozone_AQI_Value|\n",
      "+---------------+\n",
      "|             36|\n",
      "|              5|\n",
      "|             39|\n",
      "|             34|\n",
      "|             22|\n",
      "|             14|\n",
      "|             35|\n",
      "|             29|\n",
      "|             41|\n",
      "|             89|\n",
      "|             68|\n",
      "|             24|\n",
      "|            139|\n",
      "|             50|\n",
      "|             46|\n",
      "|             30|\n",
      "|            100|\n",
      "|             47|\n",
      "|              4|\n",
      "|             71|\n",
      "+---------------+\n",
      "only showing top 20 rows\n",
      "\n"
     ]
    }
   ],
   "source": [
    "spark.sql(\"\"\"\n",
    "    SELECT Ozone_AQI_Value FROM countrydata\n",
    "\"\"\").show()"
   ]
  },
  {
   "cell_type": "code",
   "execution_count": 31,
   "id": "fb8f27e6",
   "metadata": {},
   "outputs": [],
   "source": [
    "df_encoded = spark.sql('''\n",
    "    SELECT Country, AQI_Category, AVG(AQI_Value) AS AVG_AQI_Value, AVG(Ozone_AQI_Value) AS AVG_Ozone_AQI_Value\n",
    "    FROM countrydata GROUP BY Country, AQI_Category\n",
    "    ORDER BY AVG_AQI_Value\n",
    "''')"
   ]
  },
  {
   "cell_type": "code",
   "execution_count": 32,
   "id": "dc120f7a",
   "metadata": {},
   "outputs": [
    {
     "name": "stdout",
     "output_type": "stream",
     "text": [
      "+--------------------+------------+------------------+-------------------+\n",
      "|             Country|AQI_Category|     AVG_AQI_Value|AVG_Ozone_AQI_Value|\n",
      "+--------------------+------------+------------------+-------------------+\n",
      "|               Palau|        Good|              16.0|               16.0|\n",
      "|     Solomon Islands|        Good|              18.0|               18.0|\n",
      "|            Maldives|        Good|              19.0|               19.0|\n",
      "|    Papua New Guinea|        Good|19.214285714285715| 15.285714285714286|\n",
      "|         New Zealand|        Good|21.352941176470587| 18.647058823529413|\n",
      "|Bolivia (Plurinat...|        Good|21.419354838709676|  8.129032258064516|\n",
      "|              Belize|        Good|              22.0|               22.0|\n",
      "|           Argentina|        Good|22.262295081967213| 15.819672131147541|\n",
      "|             Iceland|        Good|              23.0|               23.0|\n",
      "|             Uruguay|        Good|             25.64|              19.28|\n",
      "|            Paraguay|        Good| 25.68421052631579| 14.842105263157896|\n",
      "|          Luxembourg|        Good|              26.0|               26.0|\n",
      "|          Seychelles|        Good|              26.0|               25.0|\n",
      "|              Bhutan|        Good|              26.0|               21.0|\n",
      "|          Madagascar|        Good|26.214285714285715| 21.892857142857142|\n",
      "|           Australia|        Good|27.333333333333332| 22.794871794871796|\n",
      "|             Somalia|        Good|27.857142857142858|               22.0|\n",
      "|United Republic o...|        Good|28.076190476190476| 17.323809523809523|\n",
      "|             Senegal|        Good|              29.0|               15.0|\n",
      "|             Andorra|        Good|29.333333333333332| 29.333333333333332|\n",
      "+--------------------+------------+------------------+-------------------+\n",
      "only showing top 20 rows\n",
      "\n"
     ]
    }
   ],
   "source": [
    "df_encoded.show()"
   ]
  },
  {
   "cell_type": "code",
   "execution_count": 33,
   "id": "727f7601",
   "metadata": {},
   "outputs": [
    {
     "name": "stdout",
     "output_type": "stream",
     "text": [
      "+--------------------+------------+------------------+\n",
      "|             Country|AQI_Category|     AVG_AQI_Value|\n",
      "+--------------------+------------+------------------+\n",
      "|               Palau|        Good|              16.0|\n",
      "|     Solomon Islands|        Good|              18.0|\n",
      "|            Maldives|        Good|              19.0|\n",
      "|    Papua New Guinea|        Good|19.214285714285715|\n",
      "|         New Zealand|        Good|21.352941176470587|\n",
      "|Bolivia (Plurinat...|        Good|21.419354838709676|\n",
      "|              Belize|        Good|              22.0|\n",
      "|           Argentina|        Good|22.262295081967213|\n",
      "|             Iceland|        Good|              23.0|\n",
      "|             Uruguay|        Good|             25.64|\n",
      "|            Paraguay|        Good| 25.68421052631579|\n",
      "|          Luxembourg|        Good|              26.0|\n",
      "|          Seychelles|        Good|              26.0|\n",
      "|              Bhutan|        Good|              26.0|\n",
      "|          Madagascar|        Good|26.214285714285715|\n",
      "|           Australia|        Good|27.333333333333332|\n",
      "|             Somalia|        Good|27.857142857142858|\n",
      "|United Republic o...|        Good|28.076190476190476|\n",
      "|             Senegal|        Good|              29.0|\n",
      "|             Andorra|        Good|29.333333333333332|\n",
      "+--------------------+------------+------------------+\n",
      "only showing top 20 rows\n",
      "\n"
     ]
    }
   ],
   "source": [
    "df_AQIcategory.show()"
   ]
  },
  {
   "cell_type": "code",
   "execution_count": 34,
   "id": "a5d42bde",
   "metadata": {
    "scrolled": true
   },
   "outputs": [
    {
     "data": {
      "image/png": "[encoded data removed]",
      "text/plain": [
       "<Figure size 680x300 with 1 Axes>"
      ]
     },
     "metadata": {},
     "output_type": "display_data"
    }
   ],
   "source": [
    "from sklearn.linear_model import LinearRegression\n",
    "\n",
    "from pyspark.sql.functions import col\n",
    "\n",
    "X = df_encoded.select('AVG_Ozone_AQI_Value').toPandas()\n",
    "y = df_encoded.select('AVG_AQI_Value').toPandas()\n",
    "\n",
    "# Create a LinearRegression model\n",
    "model = LinearRegression()\n",
    "\n",
    "slope_list = []\n",
    "intercept_list = []\n",
    "\n",
    "plt.figure(figsize=(6.8, 3))\n",
    "for i in range(6):\n",
    "    # Fit the model to the data\n",
    "    model.fit(X, y)\n",
    "    \n",
    "    slope = model.coef_[0]\n",
    "    intercept = model.intercept_\n",
    "    \n",
    "    slope_list.append(slope)\n",
    "    intercept_list.append(intercept)\n",
    "    \n",
    "    plt.plot(X, slope*X + intercept, label=AQIcategory_list[i], marker='.')\n",
    "    plt.legend(bbox_to_anchor=(1, 1.03), ncol=1, fancybox=True, shadow=True)\n",
    "    \n",
    "plt.ylabel('AQI_AVG_Value')\n",
    "plt.xlabel('OZONE AQI Value')\n",
    "plt.title('AQI AVG VALUE vs OZONE AQI VALUE (Linear Regression)')\n",
    "plt.show()\n"
   ]
  },
  {
   "cell_type": "code",
   "execution_count": 35,
   "id": "918b4ba7",
   "metadata": {},
   "outputs": [
    {
     "name": "stdout",
     "output_type": "stream",
     "text": [
      "+------------------+----------+---------+------------+------------+---------------+---------------+------------------+-------------+----------------+--------------+-----------------+\n",
      "|           Country|      City|AQI_Value|AQI_Category|CO_AQI_Value|CO_AQI_Category|Ozone_AQI_Value|Ozone_AQI_Category|NO2_AQI_Value|NO2_AQI_Category|PM25_AQI_Value|PM25_AQI_Category|\n",
      "+------------------+----------+---------+------------+------------+---------------+---------------+------------------+-------------+----------------+--------------+-----------------+\n",
      "|Russian Federation|Praskoveya|       51|    Moderate|           1|           Good|             36|              Good|            0|            Good|            51|         Moderate|\n",
      "+------------------+----------+---------+------------+------------+---------------+---------------+------------------+-------------+----------------+--------------+-----------------+\n",
      "only showing top 1 row\n",
      "\n"
     ]
    }
   ],
   "source": [
    "#Preprocess the data for ML training\n",
    "df.show(1)"
   ]
  },
  {
   "cell_type": "code",
   "execution_count": 36,
   "id": "492d62d5",
   "metadata": {},
   "outputs": [
    {
     "name": "stdout",
     "output_type": "stream",
     "text": [
      "root\n",
      " |-- Country: string (nullable = true)\n",
      " |-- AQI_Category: string (nullable = true)\n",
      " |-- AVG_AQI_Value: double (nullable = true)\n",
      " |-- AVG_Ozone_AQI_Value: double (nullable = true)\n",
      "\n"
     ]
    }
   ],
   "source": [
    "df_encoded.printSchema()"
   ]
  },
  {
   "cell_type": "code",
   "execution_count": 37,
   "id": "02abc602",
   "metadata": {},
   "outputs": [
    {
     "data": {
      "text/plain": [
       "False"
      ]
     },
     "execution_count": 37,
     "metadata": {},
     "output_type": "execute_result"
    }
   ],
   "source": [
    "#Create a copy of the data frame called 'df_encoded'\n",
    "df_encoded = df.alias('df_encoded')\n",
    "id(df_encoded) == id(df)"
   ]
  },
  {
   "cell_type": "code",
   "execution_count": 38,
   "id": "e454bf57",
   "metadata": {},
   "outputs": [],
   "source": [
    "cols = df_encoded.columns"
   ]
  },
  {
   "cell_type": "code",
   "execution_count": 39,
   "id": "19a42c1b",
   "metadata": {},
   "outputs": [
    {
     "data": {
      "text/plain": [
       "['Country',\n",
       " 'City',\n",
       " 'AQI_Value',\n",
       " 'AQI_Category',\n",
       " 'CO_AQI_Value',\n",
       " 'CO_AQI_Category',\n",
       " 'Ozone_AQI_Value',\n",
       " 'Ozone_AQI_Category',\n",
       " 'NO2_AQI_Value',\n",
       " 'NO2_AQI_Category',\n",
       " 'PM25_AQI_Value',\n",
       " 'PM25_AQI_Category']"
      ]
     },
     "execution_count": 39,
     "metadata": {},
     "output_type": "execute_result"
    }
   ],
   "source": [
    "cols"
   ]
  },
  {
   "cell_type": "code",
   "execution_count": 40,
   "id": "3bd89c8a",
   "metadata": {},
   "outputs": [
    {
     "name": "stdout",
     "output_type": "stream",
     "text": [
      "+--------------------+--------------+------------------+\n",
      "|             Country|  AQI_Category|       average_aqi|\n",
      "+--------------------+--------------+------------------+\n",
      "|United States of ...|     Hazardous|             500.0|\n",
      "|  Russian Federation|     Hazardous|             500.0|\n",
      "|               India|     Hazardous|450.62025316455697|\n",
      "|   Republic of Korea|     Hazardous|             421.0|\n",
      "|            Pakistan|     Hazardous|419.46153846153845|\n",
      "|Democratic Republ...|     Hazardous|             415.0|\n",
      "|        South Africa|     Hazardous|             403.0|\n",
      "|               Chile|     Hazardous|             358.0|\n",
      "|              Mexico|     Hazardous| 339.6666666666667|\n",
      "|               China|     Hazardous| 332.3333333333333|\n",
      "|          Uzbekistan|     Hazardous|             300.0|\n",
      "|              Angola|Very Unhealthy|             285.0|\n",
      "|           Australia|Very Unhealthy|             264.0|\n",
      "|Democratic Republ...|Very Unhealthy|             249.5|\n",
      "|              Brazil|Very Unhealthy|239.33333333333334|\n",
      "|               Chile|Very Unhealthy|            235.75|\n",
      "|        South Africa|Very Unhealthy|             233.6|\n",
      "|              Mexico|Very Unhealthy|233.42105263157896|\n",
      "|               India|Very Unhealthy|232.91603053435114|\n",
      "|            Pakistan|Very Unhealthy|227.45833333333334|\n",
      "+--------------------+--------------+------------------+\n",
      "only showing top 20 rows\n",
      "\n"
     ]
    }
   ],
   "source": [
    "df_AQICategory.show()"
   ]
  },
  {
   "cell_type": "code",
   "execution_count": 41,
   "id": "7c58f6d5",
   "metadata": {},
   "outputs": [],
   "source": [
    "df_average_aqi = df_AQICategory.select('average_aqi').toPandas()"
   ]
  },
  {
   "cell_type": "code",
   "execution_count": 42,
   "id": "fdd219cf",
   "metadata": {},
   "outputs": [
    {
     "data": {
      "image/png": "[encoded data removed]",
      "text/plain": [
       "<Figure size 800x400 with 2 Axes>"
      ]
     },
     "metadata": {},
     "output_type": "display_data"
    }
   ],
   "source": [
    "fig, ax = plt.subplots(2, 1, sharex=True, figsize=(8, 4), gridspec_kw={\"height_ratios\": (.2, .8)})\n",
    "ax[0].set_title('AQI_Value distribution', fontsize=18)\n",
    "\n",
    "# Create a boxplot to visualize the spread of AQI values\n",
    "sns.boxplot(x=df_average_aqi['average_aqi'], ax=ax[0], color='#0d98ba')\n",
    "ax[0].set(yticks=[])\n",
    "\n",
    "# Create a histogram to visualize the distribution of AQI values\n",
    "sns.histplot(x='average_aqi', data=df_average_aqi, ax=ax[1], color='#0d98ba', kde=True)  # Use kde=True to add KDE curve\n",
    "\n",
    "# Add vertical lines to indicate mean, median, and mode\n",
    "plt.axvline(df_average_aqi['average_aqi'].mean(), color='darkgreen', linewidth=2.2, label='mean=' + str(np.round(df_average_aqi['average_aqi'].mean(), 1)) + ' AQI Value')\n",
    "plt.axvline(df_average_aqi['average_aqi'].median(), color='red', linewidth=2.2, label='median=' + str(np.round(df_average_aqi['average_aqi'].median(), 1)) + ' AQI Value')\n",
    "plt.axvline(df_average_aqi['average_aqi'].mode()[0], color='purple', linewidth=2.2, label='mode=' + str(df_average_aqi['average_aqi'].mode()[0]) + ' AQI Value')\n",
    "\n",
    "ax[1].set_xlabel('AQI Value')\n",
    "plt.legend()\n",
    "plt.tight_layout()\n",
    "plt.show()\n"
   ]
  },
  {
   "cell_type": "code",
   "execution_count": 43,
   "id": "3dbd7720",
   "metadata": {},
   "outputs": [],
   "source": [
    "df_new = spark.sql('''\n",
    "    SELECT Country, AQI_Category, AVG(AQI_Value) AS AVG_AQI_Value, AVG(Ozone_AQI_Value) AS AVG_Ozone_AQI_Value\n",
    "    FROM countrydata GROUP BY Country, AQI_Category\n",
    "    ORDER BY AVG_AQI_Value\n",
    "''')"
   ]
  },
  {
   "cell_type": "code",
   "execution_count": 44,
   "id": "ff228535",
   "metadata": {},
   "outputs": [
    {
     "name": "stdout",
     "output_type": "stream",
     "text": [
      "+--------------------+------------+------------------+-------------------+\n",
      "|             Country|AQI_Category|     AVG_AQI_Value|AVG_Ozone_AQI_Value|\n",
      "+--------------------+------------+------------------+-------------------+\n",
      "|               Palau|        Good|              16.0|               16.0|\n",
      "|     Solomon Islands|        Good|              18.0|               18.0|\n",
      "|            Maldives|        Good|              19.0|               19.0|\n",
      "|    Papua New Guinea|        Good|19.214285714285715| 15.285714285714286|\n",
      "|         New Zealand|        Good|21.352941176470587| 18.647058823529413|\n",
      "|Bolivia (Plurinat...|        Good|21.419354838709676|  8.129032258064516|\n",
      "|              Belize|        Good|              22.0|               22.0|\n",
      "|           Argentina|        Good|22.262295081967213| 15.819672131147541|\n",
      "|             Iceland|        Good|              23.0|               23.0|\n",
      "|             Uruguay|        Good|             25.64|              19.28|\n",
      "|            Paraguay|        Good| 25.68421052631579| 14.842105263157896|\n",
      "|          Luxembourg|        Good|              26.0|               26.0|\n",
      "|          Seychelles|        Good|              26.0|               25.0|\n",
      "|              Bhutan|        Good|              26.0|               21.0|\n",
      "|          Madagascar|        Good|26.214285714285715| 21.892857142857142|\n",
      "|           Australia|        Good|27.333333333333332| 22.794871794871796|\n",
      "|             Somalia|        Good|27.857142857142858|               22.0|\n",
      "|United Republic o...|        Good|28.076190476190476| 17.323809523809523|\n",
      "|             Senegal|        Good|              29.0|               15.0|\n",
      "|             Andorra|        Good|29.333333333333332| 29.333333333333332|\n",
      "+--------------------+------------+------------------+-------------------+\n",
      "only showing top 20 rows\n",
      "\n"
     ]
    }
   ],
   "source": [
    "df_new.show()"
   ]
  },
  {
   "cell_type": "code",
   "execution_count": 45,
   "id": "d08236ae",
   "metadata": {},
   "outputs": [],
   "source": [
    "#Label Encoding\n",
    "categoricalColumns = [\"Country\", \"AQI_Category\", \"AVG_AQI_Value\", \n",
    "                      \"AVG_Ozone_AQI_Value\"]\n",
    "stages = []\n",
    "for categoricalCol in categoricalColumns:\n",
    "    stringIndexer = StringIndexer(inputCol = categoricalCol, \n",
    "    outputCol = categoricalCol + 'Index')\n",
    "    stages += [stringIndexer]\n",
    "numericCols =  [\"AVG_Ozone_AQI_Value\", \"AVG_AQI_Value\"]\n",
    "assemblerInputs = [c + \"Index\" for c in categoricalColumns] + numericCols\n",
    "assembler = VectorAssembler(inputCols=assemblerInputs, outputCol=\"features\")\n",
    "stages += [assembler]"
   ]
  },
  {
   "cell_type": "code",
   "execution_count": 46,
   "id": "0670a65a",
   "metadata": {},
   "outputs": [],
   "source": [
    "stages = []\n",
    "stringIndexer = StringIndexer(inputCol = \"AQI_Category\", \n",
    "                              outputCol = \"categoryIndex\")\n",
    "stages += [stringIndexer]"
   ]
  },
  {
   "cell_type": "code",
   "execution_count": 47,
   "id": "7c33930f",
   "metadata": {},
   "outputs": [],
   "source": [
    "#One HOT Encoding\n",
    "categoricalColumns = [\"Country\", \"AQI_Category\", \"AVG_AQI_Value\", \n",
    "                      \"AVG_Ozone_AQI_Value\"]\n",
    "for categoricalCol in categoricalColumns:\n",
    "    stringIndexer = StringIndexer(inputCol = categoricalCol, \n",
    "    outputCol = categoricalCol + 'Index', handleInvalid=\"skip\")\n",
    "    encoder = OneHotEncoder(inputCols=[stringIndexer.getOutputCol()], \n",
    "    outputCols=[categoricalCol + \"classVec\"])\n",
    "    stages += [stringIndexer, encoder]\n",
    "numericCols =  [\"AVG_AQI_Value\", \"AVG_Ozone_AQI_Value\"]\n",
    "assemblerInputs = [c + \"classVec\" for c in categoricalColumns] + \n",
    "numericCols + [\"categoryIndex\"]\n",
    "assembler = VectorAssembler(inputCols=assemblerInputs, outputCol=\"features\")\n",
    "stages += [assembler]"
   ]
  },
  {
   "cell_type": "code",
   "execution_count": 48,
   "id": "f708cd4b",
   "metadata": {
    "scrolled": false
   },
   "outputs": [],
   "source": [
    "_pipeline = Pipeline(stages = stages)\n",
    "pipelineModel = _pipeline.fit(df_new)\n",
    "df_encoded_M = pipelineModel.transform(df_new)\n",
    "selectedCols = ['features'] + df_new.columns"
   ]
  },
  {
   "cell_type": "code",
   "execution_count": 49,
   "id": "862bb0e3",
   "metadata": {},
   "outputs": [],
   "source": [
    "df_encoded_M = df_encoded_M.select(selectedCols)"
   ]
  },
  {
   "cell_type": "code",
   "execution_count": 50,
   "id": "0a3bb91a",
   "metadata": {
    "scrolled": true
   },
   "outputs": [
    {
     "name": "stdout",
     "output_type": "stream",
     "text": [
      "+--------------------+--------------------+------------+------------------+-------------------+\n",
      "|            features|             Country|AQI_Category|     AVG_AQI_Value|AVG_Ozone_AQI_Value|\n",
      "+--------------------+--------------------+------------+------------------+-------------------+\n",
      "|(998,[163,175,313...|               Palau|        Good|              16.0|               16.0|\n",
      "|(998,[171,175,339...|     Solomon Islands|        Good|              18.0|               18.0|\n",
      "|(998,[160,175,342...|            Maldives|        Good|              19.0|               19.0|\n",
      "|(998,[136,175,343...|    Papua New Guinea|        Good|19.214285714285715| 15.285714285714286|\n",
      "|(998,[134,175,346...|         New Zealand|        Good|21.352941176470587| 18.647058823529413|\n",
      "|(998,[96,175,347,...|Bolivia (Plurinat...|        Good|21.419354838709676|  8.129032258064516|\n",
      "|(998,[95,175,352,...|              Belize|        Good|              22.0|               22.0|\n",
      "|(998,[47,175,353,...|           Argentina|        Good|22.262295081967213| 15.819672131147541|\n",
      "|(998,[157,175,359...|             Iceland|        Good|              23.0|               23.0|\n",
      "|(998,[148,175,366...|             Uruguay|        Good|             25.64|              19.28|\n",
      "|(998,[34,175,367,...|            Paraguay|        Good| 25.68421052631579| 14.842105263157896|\n",
      "|(998,[126,175,187...|          Luxembourg|        Good|              26.0|               26.0|\n",
      "|(998,[169,175,187...|          Seychelles|        Good|              26.0|               25.0|\n",
      "|(998,[154,175,187...|              Bhutan|        Good|              26.0|               21.0|\n",
      "|(998,[127,175,368...|          Madagascar|        Good|26.214285714285715| 21.892857142857142|\n",
      "|(998,[19,175,370,...|           Australia|        Good|27.333333333333332| 22.794871794871796|\n",
      "|(998,[38,175,371,...|             Somalia|        Good|27.857142857142858|               22.0|\n",
      "|(998,[88,175,372,...|United Republic o...|        Good|28.076190476190476| 17.323809523809523|\n",
      "|(998,[37,175,374,...|             Senegal|        Good|              29.0|               15.0|\n",
      "|(998,[150,175,375...|             Andorra|        Good|29.333333333333332| 29.333333333333332|\n",
      "+--------------------+--------------------+------------+------------------+-------------------+\n",
      "only showing top 20 rows\n",
      "\n"
     ]
    }
   ],
   "source": [
    "df_encoded_M.show()"
   ]
  },
  {
   "cell_type": "code",
   "execution_count": 51,
   "id": "54cb2879",
   "metadata": {
    "scrolled": true
   },
   "outputs": [
    {
     "name": "stdout",
     "output_type": "stream",
     "text": [
      "+--------------------+--------------------+------------+------------------+-------------------+\n",
      "|            features|             Country|AQI_Category|     AVG_AQI_Value|AVG_Ozone_AQI_Value|\n",
      "+--------------------+--------------------+------------+------------------+-------------------+\n",
      "|(998,[163,175,313...|               Palau|        Good|              16.0|               16.0|\n",
      "|(998,[171,175,339...|     Solomon Islands|        Good|              18.0|               18.0|\n",
      "|(998,[160,175,342...|            Maldives|        Good|              19.0|               19.0|\n",
      "|(998,[136,175,343...|    Papua New Guinea|        Good|19.214285714285715| 15.285714285714286|\n",
      "|(998,[134,175,346...|         New Zealand|        Good|21.352941176470587| 18.647058823529413|\n",
      "|(998,[96,175,347,...|Bolivia (Plurinat...|        Good|21.419354838709676|  8.129032258064516|\n",
      "|(998,[95,175,352,...|              Belize|        Good|              22.0|               22.0|\n",
      "|(998,[47,175,353,...|           Argentina|        Good|22.262295081967213| 15.819672131147541|\n",
      "|(998,[157,175,359...|             Iceland|        Good|              23.0|               23.0|\n",
      "|(998,[148,175,366...|             Uruguay|        Good|             25.64|              19.28|\n",
      "|(998,[34,175,367,...|            Paraguay|        Good| 25.68421052631579| 14.842105263157896|\n",
      "|(998,[126,175,187...|          Luxembourg|        Good|              26.0|               26.0|\n",
      "|(998,[169,175,187...|          Seychelles|        Good|              26.0|               25.0|\n",
      "|(998,[154,175,187...|              Bhutan|        Good|              26.0|               21.0|\n",
      "|(998,[127,175,368...|          Madagascar|        Good|26.214285714285715| 21.892857142857142|\n",
      "|(998,[19,175,370,...|           Australia|        Good|27.333333333333332| 22.794871794871796|\n",
      "|(998,[38,175,371,...|             Somalia|        Good|27.857142857142858|               22.0|\n",
      "|(998,[88,175,372,...|United Republic o...|        Good|28.076190476190476| 17.323809523809523|\n",
      "|(998,[37,175,374,...|             Senegal|        Good|              29.0|               15.0|\n",
      "|(998,[150,175,375...|             Andorra|        Good|29.333333333333332| 29.333333333333332|\n",
      "+--------------------+--------------------+------------+------------------+-------------------+\n",
      "only showing top 20 rows\n",
      "\n"
     ]
    }
   ],
   "source": [
    "df_encoded_M.show()"
   ]
  },
  {
   "cell_type": "code",
   "execution_count": 52,
   "id": "04f059a9",
   "metadata": {},
   "outputs": [],
   "source": [
    "train, test = df_encoded_M.randomSplit([0.80, 0.20], seed = 42)"
   ]
  },
  {
   "cell_type": "code",
   "execution_count": 55,
   "id": "bfe4ffa2",
   "metadata": {},
   "outputs": [
    {
     "data": {
      "text/plain": [
       "414"
      ]
     },
     "execution_count": 55,
     "metadata": {},
     "output_type": "execute_result"
    }
   ],
   "source": [
    "train.count()"
   ]
  },
  {
   "cell_type": "code",
   "execution_count": 59,
   "id": "3fb03907",
   "metadata": {},
   "outputs": [
    {
     "name": "stdout",
     "output_type": "stream",
     "text": [
      "There are 414 training examples and 72 test examples.\n"
     ]
    }
   ],
   "source": [
    "print(\"There are %d training examples and %d test examples.\" % \n",
    "      (train.count(), test.count()))"
   ]
  },
  {
   "cell_type": "code",
   "execution_count": 64,
   "id": "b91fd6fc",
   "metadata": {},
   "outputs": [],
   "source": [
    "#Gradient Boosted Tree Regression Model\n",
    "gbt =  GBTRegressor(featuresCol=\"features\", labelCol=\"AVG_AQI_Value\", \n",
    "                    maxBins=20, maxDepth=12)"
   ]
  },
  {
   "cell_type": "code",
   "execution_count": 65,
   "id": "fc67b1db",
   "metadata": {},
   "outputs": [],
   "source": [
    "gbt_model = gbt.fit(train)"
   ]
  },
  {
   "cell_type": "code",
   "execution_count": 66,
   "id": "cbec2974",
   "metadata": {},
   "outputs": [],
   "source": [
    "#Prediction\n",
    "predictions = gbt_model.transform(test)"
   ]
  },
  {
   "cell_type": "code",
   "execution_count": 69,
   "id": "9b1d21f5",
   "metadata": {
    "scrolled": false
   },
   "outputs": [
    {
     "data": {
      "text/plain": [
       "15.963838519671397"
      ]
     },
     "execution_count": 69,
     "metadata": {},
     "output_type": "execute_result"
    }
   ],
   "source": [
    "#Prediction Results of Regression Model Root Mean Square Error\n",
    "evaluator = RegressionEvaluator(labelCol=\"AVG_AQI_Value\", \n",
    "            predictionCol=\"prediction\", metricName=\"rmse\")\n",
    "rmse = evaluator.evaluate(predictions)\n",
    "rmse"
   ]
  },
  {
   "cell_type": "code",
   "execution_count": 70,
   "id": "e16fc08f",
   "metadata": {},
   "outputs": [
    {
     "data": {
      "text/plain": [
       "0.966558757279589"
      ]
     },
     "execution_count": 70,
     "metadata": {},
     "output_type": "execute_result"
    }
   ],
   "source": [
    "evaluator = RegressionEvaluator(labelCol=\"AVG_AQI_Value\", \n",
    "            predictionCol=\"prediction\", metricName=\"r2\")\n",
    "r2 = evaluator.evaluate(predictions)\n",
    "r2"
   ]
  },
  {
   "cell_type": "code",
   "execution_count": 71,
   "id": "0b67f6ed",
   "metadata": {},
   "outputs": [],
   "source": [
    "rf_results = predictions.toPandas()"
   ]
  },
  {
   "cell_type": "code",
   "execution_count": 75,
   "id": "9435735f",
   "metadata": {},
   "outputs": [
    {
     "data": {
      "image/png": "[encoded data removed]",
      "text/plain": [
       "<Figure size 640x480 with 1 Axes>"
      ]
     },
     "metadata": {},
     "output_type": "display_data"
    }
   ],
   "source": [
    "sns.scatterplot(x='AVG_AQI_Value', y='prediction', data=rf_results, \n",
    "                color='blue')\n",
    "plt.plot([0, 300], [0, 300])\n",
    "plt.axis([0, 300, 0, 300])\n",
    "plt.xlabel('Actual AQI Value')\n",
    "plt.ylabel('Predicted AQI Value')\n",
    "plt.suptitle(\"RMSE: {:.2f} AQI Value R2: {:.2f} %\".format(rmse, r2*100))\n",
    "plt.title('Actual AQI Value VS Predicted AQI Value')\n",
    "plt.show()"
   ]
  },
  {
   "cell_type": "code",
   "execution_count": 76,
   "id": "e8e43cae",
   "metadata": {},
   "outputs": [
    {
     "name": "stdout",
     "output_type": "stream",
     "text": [
      "RMSE: 15.96 AQI Value \n",
      "R2: 96.66 %\n"
     ]
    }
   ],
   "source": [
    "print(\"RMSE: {:.2f} AQI Value \\nR2: {:.2f} %\".format(rmse, r2*100))"
   ]
  },
  {
   "cell_type": "code",
   "execution_count": null,
   "id": "87da0c5d",
   "metadata": {},
   "outputs": [],
   "source": [
    "#spark.stop()"
   ]
  },
  {
   "cell_type": "code",
   "execution_count": 5,
   "id": "cd499b82",
   "metadata": {},
   "outputs": [
    {
     "data": {
      "text/html": [
       "\n",
       "        <iframe\n",
       "            width=\"1080\"\n",
       "            height=\"925\"\n",
       "            src=\"https://public.tableau.com/views/RajLama_BigData_Assignment/Dashboard1?:language=en-US&:display_count=n&:origin=viz_share_link\"\n",
       "            frameborder=\"0\"\n",
       "            allowfullscreen\n",
       "            \n",
       "        ></iframe>\n",
       "        "
      ],
      "text/plain": [
       "<IPython.lib.display.IFrame at 0x27bc1e1d300>"
      ]
     },
     "execution_count": 5,
     "metadata": {},
     "output_type": "execute_result"
    }
   ],
   "source": [
    "#Tableau Visualization Dashboard\n",
    "IFrame('https://public.tableau.com/views/RajLama_BigData_Assignment/Dashboard1?:language=en-US&:display_count=n&:origin=viz_share_link', width=1080, height=925)\n"
   ]
  }
 ],
 "metadata": {
  "kernelspec": {
   "display_name": "Python 3 (ipykernel)",
   "language": "python",
   "name": "python3"
  },
  "language_info": {
   "codemirror_mode": {
    "name": "ipython",
    "version": 3
   },
   "file_extension": ".py",
   "mimetype": "text/x-python",
   "name": "python",
   "nbconvert_exporter": "python",
   "pygments_lexer": "ipython3",
   "version": "3.10.9"
  }
 },
 "nbformat": 4,
 "nbformat_minor": 5
}
